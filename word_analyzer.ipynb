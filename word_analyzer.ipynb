{
 "cells": [
  {
   "cell_type": "code",
   "execution_count": 17,
   "id": "b74c776d-350a-4360-8e38-e9fc8d1fcd04",
   "metadata": {},
   "outputs": [],
   "source": [
    "import pandas as pd\n",
    "import numpy as np \n",
    "import matplotlib.pyplot as plt\n",
    "import seaborn as sns\n",
    "import spacy \n",
    "from nltk.tokenize import word_tokenize,sent_tokenize\n",
    "from nltk import WordNetLemmatizer\n",
    "from nltk.stem import LancasterStemmer,PorterStemmer,RegexpStemmer,SnowballStemmer\n",
    "from __future__ import print_function, division\n",
    "from builtins import range\n",
    "import numpy as np \n",
    "from sklearn.metrics.pairwise import pairwise_distances\n",
    "from nltk.corpus import wordnet"
   ]
  },
  {
   "cell_type": "code",
   "execution_count": 4,
   "id": "82129ffa-13b5-44e8-9028-e7bf7e39fa99",
   "metadata": {},
   "outputs": [],
   "source": [
    "def dist1(a,b):\n",
    "    return np.linalg(a-b)\n",
    "\n",
    "def dist2(a,b):\n",
    "    return 1 - a.dot(b) / (np.linalg.norm(a) * np.linalg.norm(b))\n",
    "\n",
    "dist,metric = dist2, \"euclidean\""
   ]
  },
  {
   "cell_type": "code",
   "execution_count": 6,
   "id": "31002e36-ce82-4a38-a75a-680df2de86ef",
   "metadata": {},
   "outputs": [],
   "source": [
    "def nearest_neighbors(w,n=5):\n",
    "    if w not in word2vec:\n",
    "        print(f\"{w} doen't exist in dictionary.\")\n",
    "        return \n",
    "    vec = word2vec[w]\n",
    "    distances = pairwise_distances(vec.reshape(1,D),embedding,metric).reshape(V)\n",
    "    print(\"neighbors of %s:\"%w)\n",
    "    for i in distances.argsort()[1:n+1]:\n",
    "        print(\"\\t%s\"%idx2word[i])"
   ]
  },
  {
   "cell_type": "code",
   "execution_count": 8,
   "id": "4a50f22b-472c-4dd0-9669-b513e95274d6",
   "metadata": {},
   "outputs": [
    {
     "name": "stdout",
     "output_type": "stream",
     "text": [
      "Loading word vectors...\n",
      "Found 2195789 word vector\n"
     ]
    }
   ],
   "source": [
    "print(\"Loading word vectors...\")\n",
    "embedding = []\n",
    "word2vec = {}\n",
    "idx2word = []\n",
    "na = []\n",
    "with open(r\"D:\\glove.840B.300d\\glove.840B.300d.txt\",'r') as f:\n",
    "    for line in f:\n",
    "        try:\n",
    "            values = line.split()\n",
    "            vec = np.asarray(values[1:],dtype=np.float32)\n",
    "            w = values[0]\n",
    "            word2vec[w] = vec\n",
    "            embedding.append(vec)\n",
    "            idx2word.append(w)\n",
    "        except:\n",
    "            na.append(line.split()[0])\n",
    "            continue\n",
    "\n",
    "print(\"Found %i word vector\"%len(word2vec))\n",
    "embedding = np.array(embedding)\n",
    "V,D = embedding.shape"
   ]
  },
  {
   "cell_type": "code",
   "execution_count": 9,
   "id": "6e05d4ad-b2c8-4eb1-b0e0-d82feb96aa90",
   "metadata": {},
   "outputs": [
    {
     "data": {
      "text/plain": [
       "(2195790, 300)"
      ]
     },
     "execution_count": 9,
     "metadata": {},
     "output_type": "execute_result"
    }
   ],
   "source": [
    "V,D"
   ]
  },
  {
   "cell_type": "code",
   "execution_count": 10,
   "id": "f855443e-9579-4ef2-8bf1-091fd98f010a",
   "metadata": {},
   "outputs": [
    {
     "data": {
      "text/plain": [
       "2195789"
      ]
     },
     "execution_count": 10,
     "metadata": {},
     "output_type": "execute_result"
    }
   ],
   "source": [
    "len(word2vec)"
   ]
  },
  {
   "cell_type": "code",
   "execution_count": 11,
   "id": "8f495fb2-f50e-4861-b3b2-0c27c566f1b0",
   "metadata": {},
   "outputs": [
    {
     "name": "stdout",
     "output_type": "stream",
     "text": [
      "Ex-Works\n",
      "Ludecke\n",
      "language/s\n",
      "Tekstil\n",
      "GUSTAVUS\n",
      "49.02\n",
      "PULPO\n",
      "TimeTrax\n",
      "demonstrat\n",
      "katymine\n"
     ]
    }
   ],
   "source": [
    "import random\n",
    "for _ in range(10):\n",
    "    r = random.randint(0,V)\n",
    "    print(idx2word[r])"
   ]
  },
  {
   "cell_type": "code",
   "execution_count": 16,
   "id": "7b66989a-5c97-4b7e-b667-69bf4af4c92a",
   "metadata": {},
   "outputs": [
    {
     "name": "stdout",
     "output_type": "stream",
     "text": [
      "neighbors of gang:\n",
      "\tgangs\n",
      "\tthugs\n",
      "\tGang\n",
      "\tgangsters\n",
      "\tthug\n"
     ]
    }
   ],
   "source": [
    "nearest_neighbors(\"gang\")"
   ]
  },
  {
   "cell_type": "code",
   "execution_count": 19,
   "id": "f4111782-2c7d-49f1-bdc6-f39c0af0329d",
   "metadata": {},
   "outputs": [
    {
     "data": {
      "text/plain": [
       "'an association of criminals'"
      ]
     },
     "execution_count": 19,
     "metadata": {},
     "output_type": "execute_result"
    }
   ],
   "source": [
    "wordnet.synsets(\"gang\")[0].definition()"
   ]
  },
  {
   "cell_type": "code",
   "execution_count": 20,
   "id": "91dabbbc-d4e7-4065-a9f7-a3703e15f011",
   "metadata": {},
   "outputs": [
    {
     "data": {
      "text/plain": [
       "'gang.n.01'"
      ]
     },
     "execution_count": 20,
     "metadata": {},
     "output_type": "execute_result"
    }
   ],
   "source": [
    "wordnet.synsets(\"gang\")[0].name()"
   ]
  },
  {
   "cell_type": "code",
   "execution_count": 22,
   "id": "dd54c80c-d951-4fc9-a107-47c51cc74ed9",
   "metadata": {},
   "outputs": [
    {
     "data": {
      "text/plain": [
       "'gang'"
      ]
     },
     "execution_count": 22,
     "metadata": {},
     "output_type": "execute_result"
    }
   ],
   "source": [
    "wordnet.synsets(\"gang\")[0].lemmas()[0].name()"
   ]
  },
  {
   "cell_type": "code",
   "execution_count": 27,
   "id": "5d1e826c-e892-40ab-8079-0ed63b775892",
   "metadata": {},
   "outputs": [
    {
     "data": {
      "text/plain": [
       "[]"
      ]
     },
     "execution_count": 27,
     "metadata": {},
     "output_type": "execute_result"
    }
   ],
   "source": [
    "wordnet.synsets(\"gang\")[0].lemmas()[0].antonyms()"
   ]
  },
  {
   "cell_type": "code",
   "execution_count": null,
   "id": "17e10b66-382f-4012-9c9d-589739746123",
   "metadata": {},
   "outputs": [],
   "source": []
  }
 ],
 "metadata": {
  "kernelspec": {
   "display_name": "Python 3 (ipykernel)",
   "language": "python",
   "name": "python3"
  },
  "language_info": {
   "codemirror_mode": {
    "name": "ipython",
    "version": 3
   },
   "file_extension": ".py",
   "mimetype": "text/x-python",
   "name": "python",
   "nbconvert_exporter": "python",
   "pygments_lexer": "ipython3",
   "version": "3.9.18"
  }
 },
 "nbformat": 4,
 "nbformat_minor": 5
}
